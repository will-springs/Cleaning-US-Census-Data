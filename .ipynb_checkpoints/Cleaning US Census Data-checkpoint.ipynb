{
 "cells": [
  {
   "cell_type": "markdown",
   "metadata": {},
   "source": [
    "# Cleaning US Census Data"
   ]
  },
  {
   "cell_type": "markdown",
   "metadata": {},
   "source": [
    "You just got hired as a Data Analyst at the Census Bureau, which collects census data and creates interesting visualizations and insights from it.\n",
    "\n",
    "The person who had your job before you left you all the data they had for the most recent census. It is in multiple `csv` files. They didn't use pandas, they would just look through these `csv` files manually whenever they wanted to find something. Sometimes they would copy and paste certain numbers into Excel to make charts.\n",
    "\n",
    "The thought of it makes you shiver. This is not scalable or repeatable.\n",
    "\n",
    "Your boss wants you to make some scatterplots and histograms by the end of the day. Can you get this data into `pandas` and into reasonable shape so that you can make these histograms?"
   ]
  },
  {
   "cell_type": "markdown",
   "metadata": {},
   "source": [
    "## Inspect the Data!"
   ]
  },
  {
   "cell_type": "markdown",
   "metadata": {},
   "source": [
    "1. The first visualization your boss wants you to make is a scatterplot that shows average income in a state vs proportion of women in that state.\n",
    "\n",
    "   Open some of the census `csv` files that came with the kit you downloaded. How are they named? What kind of information do they hold? Will they help us make this graph?"
   ]
  },
  {
   "cell_type": "code",
   "execution_count": 1,
   "metadata": {},
   "outputs": [],
   "source": [
    "import pandas as pd\n",
    "import numpy as np\n",
    "import matplotlib.pyplot as plt"
   ]
  },
  {
   "cell_type": "markdown",
   "metadata": {},
   "source": [
    "2. It will be easier to inspect this data once we have it in a DataFrame. You can't even call `.head()` on these `csv`s! How are you supposed to read them?\n",
    "\n",
    "   Using `glob`, loop through the census files available and load them into DataFrames. Then, concatenate all of those DataFrames together into one DataFrame, called something like `us_census`."
   ]
  },
  {
   "cell_type": "code",
   "execution_count": 2,
   "metadata": {},
   "outputs": [
    {
     "name": "stdout",
     "output_type": "stream",
     "text": [
      "['states0.csv', 'states1.csv', 'states2.csv', 'states3.csv', 'states4.csv', 'states5.csv', 'states6.csv', 'states7.csv', 'states8.csv', 'states9.csv']\n",
      "   Unnamed: 0       State  TotalPop Hispanic   White   Black  Native   Asian  \\\n",
      "0           0     Alabama   4830620    3.75%  61.88%  31.25%   0.45%   1.05%   \n",
      "1           1      Alaska    733375    5.91%  60.91%   2.85%  16.39%   5.45%   \n",
      "2           2     Arizona   6641928   29.57%  57.12%   3.85%   4.36%   2.88%   \n",
      "3           3    Arkansas   2958208    6.22%  71.14%  18.97%   0.52%   1.14%   \n",
      "4           4  California  38421464   37.29%  40.22%   5.68%   0.41%  13.05%   \n",
      "\n",
      "  Pacific       Income            GenderPop  \n",
      "0   0.03%  $43,296.36     2341093M_2489527F  \n",
      "1   1.06%  $70,354.74       384160M_349215F  \n",
      "2   0.17%  $54,207.82     3299088M_3342840F  \n",
      "3   0.15%  $41,935.63     1451913M_1506295F  \n",
      "4   0.35%  $67,264.78   19087135M_19334329F   60\n"
     ]
    }
   ],
   "source": [
    "import glob\n",
    "file_list = glob.glob('*.csv')\n",
    "print(file_list)\n",
    "us_census = []\n",
    "for file in file_list:\n",
    "  states = pd.read_csv(file)\n",
    "  us_census.append(states)\n",
    "\n",
    "us_census = pd.concat(us_census)\n",
    "print(us_census.head(), len(us_census))"
   ]
  },
  {
   "cell_type": "markdown",
   "metadata": {},
   "source": [
    "3. Look at the `.columns` and the `.dtypes` of the `us_census` DataFrame. Are those datatypes going to hinder you as you try to make histograms?"
   ]
  },
  {
   "cell_type": "code",
   "execution_count": 3,
   "metadata": {},
   "outputs": [
    {
     "name": "stdout",
     "output_type": "stream",
     "text": [
      "Index(['Unnamed: 0', 'State', 'TotalPop', 'Hispanic', 'White', 'Black',\n",
      "       'Native', 'Asian', 'Pacific', 'Income', 'GenderPop'],\n",
      "      dtype='object') Unnamed: 0     int64\n",
      "State         object\n",
      "TotalPop       int64\n",
      "Hispanic      object\n",
      "White         object\n",
      "Black         object\n",
      "Native        object\n",
      "Asian         object\n",
      "Pacific       object\n",
      "Income        object\n",
      "GenderPop     object\n",
      "dtype: object\n"
     ]
    }
   ],
   "source": [
    "print(us_census.columns, us_census.dtypes)"
   ]
  },
  {
   "cell_type": "markdown",
   "metadata": {},
   "source": [
    "4. Look at the `head()` of the DataFrame so that you can understand why some of these `dtypes` are objects instead of integers or floats.\n",
    "\n",
    "   Start to make a plan for how to convert these columns into the right types for manipulation."
   ]
  },
  {
   "cell_type": "code",
   "execution_count": 4,
   "metadata": {},
   "outputs": [
    {
     "name": "stdout",
     "output_type": "stream",
     "text": [
      "        State  TotalPop Hispanic   White   Black  Native   Asian Pacific  \\\n",
      "0     Alabama   4830620    3.75%  61.88%  31.25%   0.45%   1.05%   0.03%   \n",
      "1      Alaska    733375    5.91%  60.91%   2.85%  16.39%   5.45%   1.06%   \n",
      "2     Arizona   6641928   29.57%  57.12%   3.85%   4.36%   2.88%   0.17%   \n",
      "3    Arkansas   2958208    6.22%  71.14%  18.97%   0.52%   1.14%   0.15%   \n",
      "4  California  38421464   37.29%  40.22%   5.68%   0.41%  13.05%   0.35%   \n",
      "\n",
      "        Income            GenderPop  \n",
      "0  $43,296.36     2341093M_2489527F  \n",
      "1  $70,354.74       384160M_349215F  \n",
      "2  $54,207.82     3299088M_3342840F  \n",
      "3  $41,935.63     1451913M_1506295F  \n",
      "4  $67,264.78   19087135M_19334329F  \n"
     ]
    }
   ],
   "source": [
    "# I don't know why there is this extra column called 'Unnamed: 0', but it ends up masking the presence of duplicate rows.\n",
    "# Later on in this project we have to get rid of the duplicate rows, so I'm dropping the extra column here.\n",
    "\n",
    "us_census = us_census.drop('Unnamed: 0', axis=1)\n",
    "print(us_census.head())"
   ]
  },
  {
   "cell_type": "markdown",
   "metadata": {},
   "source": [
    "## Regex to the Rescue"
   ]
  },
  {
   "cell_type": "markdown",
   "metadata": {},
   "source": [
    "5. Use regex to turn the `Income` column into a format that is ready for conversion into a numerical type."
   ]
  },
  {
   "cell_type": "code",
   "execution_count": 5,
   "metadata": {},
   "outputs": [
    {
     "name": "stdout",
     "output_type": "stream",
     "text": [
      "56632.04283333333\n"
     ]
    }
   ],
   "source": [
    "us_census['Income'] = us_census['Income'].replace('[$]', '', regex=True)\n",
    "us_census['Income'] = us_census['Income'].replace('[,]', '', regex=True)\n",
    "\n",
    "us_census['Income'] = pd.to_numeric(us_census['Income'])\n",
    "\n",
    "# Let's test to see if these commands worked by taking the mean Income\n",
    "print(us_census['Income'].mean())"
   ]
  },
  {
   "cell_type": "markdown",
   "metadata": {},
   "source": [
    "6. Look at the `GenderPop` column. We are going to want to separate this into two columns, the `Men` column, and the `Women` column.\n",
    "\n",
    "   Split the column into those two new columns using `str.split` and separating out those results."
   ]
  },
  {
   "cell_type": "code",
   "execution_count": 6,
   "metadata": {},
   "outputs": [
    {
     "name": "stdout",
     "output_type": "stream",
     "text": [
      "        State  TotalPop Hispanic   White   Black  Native   Asian Pacific  \\\n",
      "0     Alabama   4830620    3.75%  61.88%  31.25%   0.45%   1.05%   0.03%   \n",
      "1      Alaska    733375    5.91%  60.91%   2.85%  16.39%   5.45%   1.06%   \n",
      "2     Arizona   6641928   29.57%  57.12%   3.85%   4.36%   2.88%   0.17%   \n",
      "3    Arkansas   2958208    6.22%  71.14%  18.97%   0.52%   1.14%   0.15%   \n",
      "4  California  38421464   37.29%  40.22%   5.68%   0.41%  13.05%   0.35%   \n",
      "\n",
      "     Income            GenderPop        Men      Women  \n",
      "0  43296.36    2341093M_2489527F   2341093M   2489527F  \n",
      "1  70354.74      384160M_349215F    384160M    349215F  \n",
      "2  54207.82    3299088M_3342840F   3299088M   3342840F  \n",
      "3  41935.63    1451913M_1506295F   1451913M   1506295F  \n",
      "4  67264.78  19087135M_19334329F  19087135M  19334329F  \n"
     ]
    }
   ],
   "source": [
    "gend = us_census['GenderPop'].str.split('_')\n",
    "us_census['Men'] = gend.str.get(0)\n",
    "us_census['Women'] = gend.str.get(1)\n",
    "\n",
    "print(us_census.head())"
   ]
  },
  {
   "cell_type": "markdown",
   "metadata": {},
   "source": [
    "7. Convert both of the columns into numerical datatypes.\n",
    "\n",
    "   There is still an `M` or an `F` character in each entry! We should remove those before we convert."
   ]
  },
  {
   "cell_type": "code",
   "execution_count": 7,
   "metadata": {},
   "outputs": [],
   "source": [
    "us_census['Men'] = us_census['Men'].replace('[M]', '', regex=True)\n",
    "us_census['Women'] = us_census['Women'].replace('[F]', '', regex=True)\n",
    "\n",
    "us_census['Men'] = pd.to_numeric(us_census['Men'])\n",
    "us_census['Women'] = pd.to_numeric(us_census['Women'])"
   ]
  },
  {
   "cell_type": "markdown",
   "metadata": {},
   "source": [
    "8. Now you should have the columns you need to make the graph and make sure your boss does not slam a ruler angrily on your desk because you've wasted your whole day cleaning your data with no results to show!\n",
    "\n",
    "   Use matplotlib to make a scatterplot!\n",
    "   \n",
    "   ```py\n",
    "   plt.scatter(the_women_column, the_income_column)\n",
    "   ```\n",
    "   \n",
    "   Remember to call `plt.show()` to see the graph!"
   ]
  },
  {
   "cell_type": "code",
   "execution_count": 8,
   "metadata": {},
   "outputs": [
    {
     "data": {
      "image/png": "[encoded data removed]",
      "text/plain": [
       "<Figure size 640x480 with 1 Axes>"
      ]
     },
     "metadata": {},
     "output_type": "display_data"
    }
   ],
   "source": [
    "plt.scatter(us_census['Women'], us_census['Income'])\n",
    "plt.show()"
   ]
  },
  {
   "cell_type": "markdown",
   "metadata": {},
   "source": [
    "9. You want to double check your work. You know from experience that these monstrous csv files probably have `nan` values in them! Print out your column with the number of women per state to see.\n",
    "\n",
    "   We can fill in those `nan`s by using pandas' `.fillna()` function.\n",
    "   \n",
    "   You have the `TotalPop` per state, and you have the `Men` per state. As an estimate for the `nan` values in the `Women` column, you could use the `TotalPop` of that state minus the `Men` for that state.\n",
    "   \n",
    "   Print out the `Women` column after filling the `nan` values to see if it worked!"
   ]
  },
  {
   "cell_type": "code",
   "execution_count": 9,
   "metadata": {},
   "outputs": [
    {
     "name": "stdout",
     "output_type": "stream",
     "text": [
      "0     2489527.0\n",
      "1      349215.0\n",
      "2     3342840.0\n",
      "3     1506295.0\n",
      "4    19334329.0\n",
      "5     2630239.0\n",
      "0     2630239.0\n",
      "1     1841615.0\n",
      "2      478041.0\n",
      "3      340810.0\n",
      "4    10045763.0\n",
      "5     5123362.0\n",
      "0     5123362.0\n",
      "1      696428.0\n",
      "2      806083.0\n",
      "3     6556862.0\n",
      "4     3333382.0\n",
      "5     1558931.0\n",
      "0     1558931.0\n",
      "1     1453125.0\n",
      "2     2233145.0\n",
      "3     2364097.0\n",
      "4      679019.0\n",
      "5     3057895.0\n",
      "0     3057895.0\n",
      "1     3455936.0\n",
      "2     5038598.0\n",
      "3     2727005.0\n",
      "4     1536358.0\n",
      "5     3081445.0\n",
      "0     3081445.0\n",
      "1      504536.0\n",
      "2      939759.0\n",
      "3     1390901.0\n",
      "4      670717.0\n",
      "5     4561386.0\n",
      "0     4561386.0\n",
      "1     1051703.0\n",
      "2    10131373.0\n",
      "3     5049925.0\n",
      "4      353677.0\n",
      "5     5913084.0\n",
      "0     5913084.0\n",
      "1     1942789.0\n",
      "2     1990780.0\n",
      "3     6534215.0\n",
      "4     1869213.0\n",
      "5      543273.0\n",
      "0      543273.0\n",
      "1     2455167.0\n",
      "2      419713.0\n",
      "3     3331859.0\n",
      "4    13367298.0\n",
      "5     1444150.0\n",
      "0     1444150.0\n",
      "1      318031.0\n",
      "2     4195682.0\n",
      "3     3497739.0\n",
      "4      937789.0\n",
      "5     2890732.0\n",
      "Name: Women, dtype: float64\n"
     ]
    }
   ],
   "source": [
    "#print(us_census['State'])\n",
    "us_census['Women'] = us_census['Women'].fillna(us_census['TotalPop'] - us_census['Men'])\n",
    "print(us_census['Women'])"
   ]
  },
  {
   "cell_type": "markdown",
   "metadata": {},
   "source": [
    "10. We forgot to check for duplicates! Use `.duplicated()` on your `census` DataFrame to see if we have duplicate rows in there."
   ]
  },
  {
   "cell_type": "code",
   "execution_count": 10,
   "metadata": {},
   "outputs": [
    {
     "name": "stdout",
     "output_type": "stream",
     "text": [
      "0    False\n",
      "1    False\n",
      "2    False\n",
      "3    False\n",
      "4    False\n",
      "5    False\n",
      "0     True\n",
      "1    False\n",
      "2    False\n",
      "3    False\n",
      "4    False\n",
      "5    False\n",
      "0     True\n",
      "1    False\n",
      "2    False\n",
      "3    False\n",
      "4    False\n",
      "5    False\n",
      "0     True\n",
      "1    False\n",
      "2    False\n",
      "3    False\n",
      "4    False\n",
      "5    False\n",
      "0     True\n",
      "1    False\n",
      "2    False\n",
      "3    False\n",
      "4    False\n",
      "5    False\n",
      "0     True\n",
      "1    False\n",
      "2    False\n",
      "3    False\n",
      "4    False\n",
      "5    False\n",
      "0     True\n",
      "1    False\n",
      "2    False\n",
      "3    False\n",
      "4    False\n",
      "5    False\n",
      "0     True\n",
      "1    False\n",
      "2    False\n",
      "3    False\n",
      "4    False\n",
      "5    False\n",
      "0     True\n",
      "1    False\n",
      "2    False\n",
      "3    False\n",
      "4    False\n",
      "5    False\n",
      "0     True\n",
      "1    False\n",
      "2    False\n",
      "3    False\n",
      "4    False\n",
      "5    False\n",
      "dtype: bool\n"
     ]
    }
   ],
   "source": [
    "duplicates = us_census.duplicated()\n",
    "print(duplicates)"
   ]
  },
  {
   "cell_type": "markdown",
   "metadata": {},
   "source": [
    "11. Drop those duplicates using the `.drop_duplicates()` function."
   ]
  },
  {
   "cell_type": "code",
   "execution_count": 11,
   "metadata": {},
   "outputs": [],
   "source": [
    "us_census = us_census.drop_duplicates()\n",
    "duplicates = us_census.duplicated()\n",
    "#print(duplicates)"
   ]
  },
  {
   "cell_type": "markdown",
   "metadata": {},
   "source": [
    "12. Make the scatterplot again. Now, it should be perfect! Your job is secure, for now."
   ]
  },
  {
   "cell_type": "code",
   "execution_count": 12,
   "metadata": {},
   "outputs": [
    {
     "data": {
      "image/png": "[encoded data removed]",
      "text/plain": [
       "<Figure size 640x480 with 1 Axes>"
      ]
     },
     "metadata": {},
     "output_type": "display_data"
    }
   ],
   "source": [
    "plt.scatter(us_census['Women'], us_census['Income'])\n",
    "plt.show()"
   ]
  },
  {
   "cell_type": "markdown",
   "metadata": {},
   "source": [
    "## Histogram of Races"
   ]
  },
  {
   "cell_type": "markdown",
   "metadata": {},
   "source": [
    "13. Now your boss wants you to make a bunch of histograms out of the race data that you have. Look at the `.columns` again to see what the race categories are."
   ]
  },
  {
   "cell_type": "code",
   "execution_count": 13,
   "metadata": {},
   "outputs": [
    {
     "name": "stdout",
     "output_type": "stream",
     "text": [
      "Index(['State', 'TotalPop', 'Hispanic', 'White', 'Black', 'Native', 'Asian',\n",
      "       'Pacific', 'Income', 'GenderPop', 'Men', 'Women'],\n",
      "      dtype='object')\n",
      "        State  TotalPop  Hispanic  White  Black  Native  Asian  Pacific  \\\n",
      "0     Alabama   4830620      3.75  61.88  31.25    0.45   1.05     0.03   \n",
      "1      Alaska    733375      5.91  60.91   2.85   16.39   5.45     1.06   \n",
      "2     Arizona   6641928     29.57  57.12   3.85    4.36   2.88     0.17   \n",
      "3    Arkansas   2958208      6.22  71.14  18.97    0.52   1.14     0.15   \n",
      "4  California  38421464     37.29  40.22   5.68    0.41  13.05     0.35   \n",
      "\n",
      "     Income            GenderPop       Men       Women  \n",
      "0  43296.36    2341093M_2489527F   2341093   2489527.0  \n",
      "1  70354.74      384160M_349215F    384160    349215.0  \n",
      "2  54207.82    3299088M_3342840F   3299088   3342840.0  \n",
      "3  41935.63    1451913M_1506295F   1451913   1506295.0  \n",
      "4  67264.78  19087135M_19334329F  19087135  19334329.0  \n"
     ]
    }
   ],
   "source": [
    "print(us_census.columns)\n",
    "\n",
    "# Six new histograms for: Hispanic, White, Black, Native (American), Asian, Pacific (Islander)\n",
    "us_census['Hispanic'] = us_census['Hispanic'].replace('[%]', '', regex=True)\n",
    "us_census['Hispanic'] = pd.to_numeric(us_census['Hispanic'])\n",
    "\n",
    "us_census['White'] = us_census['White'].replace('[%]', '', regex=True)\n",
    "us_census['White'] = pd.to_numeric(us_census['White'])\n",
    "\n",
    "us_census['Black'] = us_census['Black'].replace('[%]', '', regex=True)\n",
    "us_census['Black'] = pd.to_numeric(us_census['Black'])\n",
    "\n",
    "us_census['Native'] = us_census['Native'].replace('[%]', '', regex=True)\n",
    "us_census['Native'] = pd.to_numeric(us_census['Native'])\n",
    "\n",
    "us_census['Asian'] = us_census['Asian'].replace('[%]', '', regex=True)\n",
    "us_census['Asian'] = pd.to_numeric(us_census['Asian'])\n",
    "\n",
    "us_census['Pacific'] = us_census['Pacific'].replace('[%]', '', regex=True)\n",
    "us_census['Pacific'] = pd.to_numeric(us_census['Pacific'])\n",
    "\n",
    "# Note: Don't run this block of code more than once, because we're dividing by 100 to get percentage values.\n",
    "print(us_census.head())"
   ]
  },
  {
   "cell_type": "markdown",
   "metadata": {},
   "source": [
    "14. Try to make a histogram for each one!\n",
    "\n",
    "    You will have to get the columns into the numerical format, and those percentage signs will have to go.\n",
    "    \n",
    "    Don't forget to fill the `nan` values with something that makes sense! You probably dropped the duplicate rows when making your last graph, but it couldn't hurt to check for duplicates again."
   ]
  },
  {
   "cell_type": "code",
   "execution_count": 14,
   "metadata": {},
   "outputs": [
    {
     "name": "stdout",
     "output_type": "stream",
     "text": [
      "51\n",
      "                  State  Pacific\n",
      "0               Alabama     0.03\n",
      "1                Alaska     1.06\n",
      "2               Arizona     0.17\n",
      "3              Arkansas     0.15\n",
      "4            California     0.35\n",
      "5              Colorado     2.54\n",
      "1           Connecticut     0.02\n",
      "2              Delaware     2.28\n",
      "3  District of Columbia     0.03\n",
      "4               Florida     0.05\n",
      "5               Georgia     0.05\n",
      "1                Hawaii     8.76\n",
      "2                 Idaho     0.13\n",
      "3              Illinois     0.02\n",
      "4               Indiana     0.03\n",
      "5                  Iowa     0.06\n",
      "1                Kansas     2.77\n",
      "2              Kentucky     0.05\n",
      "3             Louisiana     0.04\n",
      "4                 Maine     0.02\n",
      "5              Maryland     0.04\n",
      "1         Massachusetts     0.02\n",
      "2              Michigan     0.02\n",
      "3             Minnesota     0.03\n",
      "4           Mississippi     0.02\n",
      "5              Missouri     0.10\n",
      "1               Montana     0.07\n",
      "2              Nebraska     0.06\n",
      "3                Nevada     0.57\n",
      "4         New Hampshire     0.02\n",
      "5            New Jersey     0.03\n",
      "1            New Mexico     0.04\n",
      "2              New York     0.02\n",
      "3        North Carolina     0.05\n",
      "4          North Dakota     1.83\n",
      "5                  Ohio     0.02\n",
      "1              Oklahoma     0.11\n",
      "2                Oregon     0.35\n",
      "3          Pennsylvania     0.02\n",
      "4           Puerto Rico     0.00\n",
      "5          Rhode Island     0.04\n",
      "1        South Carolina     0.05\n",
      "2          South Dakota     0.04\n",
      "3             Tennessee     0.04\n",
      "4                 Texas     0.07\n",
      "5                  Utah     0.83\n",
      "1               Vermont     0.03\n",
      "2              Virginia     0.06\n",
      "3            Washington     0.61\n",
      "4         West Virginia     0.03\n",
      "5             Wisconsin     0.02\n"
     ]
    }
   ],
   "source": [
    "# Maybe this isn't the coolest coding solution, but I went through each race column one by one to check for the presence\n",
    "# of NaN values. Only 'Pacific' had NaN values, which I filled in using this line of code:\n",
    "\n",
    "us_census['Pacific'] = us_census['Pacific'].fillna(100 - (us_census['Hispanic'] + us_census['White'] + us_census['Black'] \n",
    "                                                        + us_census['Native'] + us_census['Asian']))\n",
    "\n",
    "# As instructed, I also checked for duplicates by checking the length of the dataframe. There are 51 rows, one for each\n",
    "# state and the District of Columbia.\n",
    "\n",
    "print(len(us_census))\n",
    "\n",
    "print(us_census[['State','Pacific']])\n",
    "\n",
    "race_list = ['Hispanic', 'White', 'Black', 'Native', 'Asian', 'Pacific']"
   ]
  },
  {
   "cell_type": "code",
   "execution_count": 15,
   "metadata": {},
   "outputs": [
    {
     "data": {
      "image/png": "[encoded data removed]",
      "text/plain": [
       "<Figure size 1200x800 with 6 Axes>"
      ]
     },
     "metadata": {},
     "output_type": "display_data"
    }
   ],
   "source": [
    "# Six histograms for the boss:\n",
    "\n",
    "# Set up the figure and subplots\n",
    "fig, axs = plt.subplots(2, 3, figsize=(12, 8))\n",
    "\n",
    "# Flatten the 2D subplot array for easier iteration\n",
    "axs = axs.flatten()\n",
    "\n",
    "# Iterate through the data and plot histograms\n",
    "for i in range(6):\n",
    "    race = race_list[i]\n",
    "    axs[i].hist(us_census[race], edgecolor='black')\n",
    "    axs[i].set_title('Percentage of ' + race + ' People per State')\n",
    "    axs[i].set_xlabel('Percentage of People of This Race')\n",
    "    axs[i].set_ylabel('Frequency of States')\n",
    "\n",
    "# Adjust spacing between subplots\n",
    "plt.tight_layout()\n",
    "\n",
    "# Display the plots\n",
    "plt.show()   "
   ]
  },
  {
   "cell_type": "markdown",
   "metadata": {},
   "source": [
    "## Get Creative"
   ]
  },
  {
   "cell_type": "markdown",
   "metadata": {},
   "source": [
    "15. Phew. You've definitely impressed your boss on your first day of work.\n",
    "\n",
    "    But is there a way you really convey the power of pandas and Python over the drudgery of `csv` and Excel?\n",
    "    \n",
    "    Try to make some more interesting graphs to show your boss, and the world! You may need to clean the data even more to do it, or the cleaning you have already done may give you the ease of manipulation you've been searching for."
   ]
  },
  {
   "cell_type": "code",
   "execution_count": null,
   "metadata": {},
   "outputs": [],
   "source": []
  }
 ],
 "metadata": {
  "kernelspec": {
   "display_name": "Python 3 (ipykernel)",
   "language": "python",
   "name": "python3"
  },
  "language_info": {
   "codemirror_mode": {
    "name": "ipython",
    "version": 3
   },
   "file_extension": ".py",
   "mimetype": "text/x-python",
   "name": "python",
   "nbconvert_exporter": "python",
   "pygments_lexer": "ipython3",
   "version": "3.10.9"
  }
 },
 "nbformat": 4,
 "nbformat_minor": 2
}
